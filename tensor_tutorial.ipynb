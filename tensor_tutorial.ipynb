{
  "cells": [
    {
      "cell_type": "code",
      "execution_count": 2,
      "id": "O6exzTqJjecPE1lNg7uUbt1E",
      "metadata": {
        "colab": {
          "base_uri": "https://localhost:8080/"
        },
        "executionInfo": {
          "elapsed": 254,
          "status": "ok",
          "timestamp": 1710416165698,
          "user": {
            "displayName": "",
            "userId": ""
          },
          "user_tz": -540
        },
        "id": "O6exzTqJjecPE1lNg7uUbt1E",
        "outputId": "ac705cb5-fff8-4f9f-c168-56b4d474909f",
        "tags": []
      },
      "outputs": [
        {
          "name": "stdout",
          "output_type": "stream",
          "text": [
            "torch.cuda.is_available() = True\n",
            "torch.cuda.device_count() = 8\n",
            "torch.cuda.current_device() = 0\n"
          ]
        }
      ],
      "source": [
        "import torch\n",
        "\n",
        "\n",
        "# Create a 2x4 tensor\n",
        "m = torch.Tensor(2,4)\n",
        "m\n",
        "# Move your tensor to GPU device 0 if there is one (first GPU in the system)\n",
        "device = torch.device(\"cuda:0\" if torch.cuda.is_available() else \"cpu\")\n",
        "m.to(device)\n",
        "print(f'torch.cuda.is_available() = {torch.cuda.is_available()}')\n",
        "print(f'torch.cuda.device_count() = {torch.cuda.device_count()}')\n",
        "print(f'torch.cuda.current_device() = {torch.cuda.current_device()}')"
      ]
    },
    {
      "cell_type": "code",
      "execution_count": 3,
      "id": "on3hV8MdPU0k",
      "metadata": {
        "executionInfo": {
          "elapsed": 1,
          "status": "ok",
          "timestamp": 1710416166550,
          "user": {
            "displayName": "",
            "userId": ""
          },
          "user_tz": -540
        },
        "id": "on3hV8MdPU0k"
      },
      "outputs": [],
      "source": [
        "import numpy"
      ]
    },
    {
      "cell_type": "code",
      "execution_count": 4,
      "id": "s_pnSA9GU8z0",
      "metadata": {
        "colab": {
          "base_uri": "https://localhost:8080/"
        },
        "executionInfo": {
          "elapsed": 875,
          "status": "ok",
          "timestamp": 1710416168014,
          "user": {
            "displayName": "",
            "userId": ""
          },
          "user_tz": -540
        },
        "id": "s_pnSA9GU8z0",
        "outputId": "7e7a03ed-c981-416c-ed0d-eef07d2b0e88"
      },
      "outputs": [
        {
          "data": {
            "text/plain": [
              "tensor(1.4142)"
            ]
          },
          "execution_count": 4,
          "metadata": {},
          "output_type": "execute_result"
        }
      ],
      "source": [
        "torch.sqrt(torch.tensor(2.0))"
      ]
    },
    {
      "cell_type": "code",
      "execution_count": 5,
      "id": "XB3pKbIeVDRs",
      "metadata": {
        "executionInfo": {
          "elapsed": 1,
          "status": "ok",
          "timestamp": 1710416168014,
          "user": {
            "displayName": "",
            "userId": ""
          },
          "user_tz": -540
        },
        "id": "XB3pKbIeVDRs"
      },
      "outputs": [],
      "source": [
        "# What about all \"*Tensor\"\n",
        "torch.*Tensor?"
      ]
    },
    {
      "cell_type": "code",
      "execution_count": 6,
      "id": "ToJI7NW8VQ-_",
      "metadata": {
        "executionInfo": {
          "elapsed": 1,
          "status": "ok",
          "timestamp": 1710416168313,
          "user": {
            "displayName": "",
            "userId": ""
          },
          "user_tz": -540
        },
        "id": "ToJI7NW8VQ-_"
      },
      "outputs": [],
      "source": [
        "# Annotate your functions/classes!\n",
        "torch.nn.Module?"
      ]
    },
    {
      "cell_type": "code",
      "execution_count": 7,
      "id": "yIcaxa5wVWXT",
      "metadata": {
        "executionInfo": {
          "elapsed": 2,
          "status": "ok",
          "timestamp": 1710416168618,
          "user": {
            "displayName": "",
            "userId": ""
          },
          "user_tz": -540
        },
        "id": "yIcaxa5wVWXT"
      },
      "outputs": [],
      "source": [
        "%magic"
      ]
    },
    {
      "cell_type": "code",
      "execution_count": 8,
      "id": "YZ09eesoVqr1",
      "metadata": {
        "colab": {
          "base_uri": "https://localhost:8080/"
        },
        "executionInfo": {
          "elapsed": 275,
          "status": "ok",
          "timestamp": 1710416169484,
          "user": {
            "displayName": "",
            "userId": ""
          },
          "user_tz": -540
        },
        "id": "YZ09eesoVqr1",
        "outputId": "f10db59c-09e1-4cbb-e31d-83933e1f15e0"
      },
      "outputs": [
        {
          "name": "stdout",
          "output_type": "stream",
          "text": [
            "total 0\n"
          ]
        }
      ],
      "source": [
        "# List all the files in the current directory\n",
        "!ls -lh"
      ]
    },
    {
      "cell_type": "code",
      "execution_count": null,
      "id": "jCXfqVBmiIRb",
      "metadata": {
        "colab": {
          "base_uri": "https://localhost:8080/"
        },
        "executionInfo": {
          "elapsed": 3,
          "status": "ok",
          "timestamp": 1710412664350,
          "user": {
            "displayName": "",
            "userId": ""
          },
          "user_tz": -540
        },
        "id": "jCXfqVBmiIRb",
        "outputId": "5b323efa-3a6c-4c67-804a-a63607338202"
      },
      "outputs": [
        {
          "name": "stderr",
          "output_type": "stream",
          "text": [
            "ls: cannot access '*.*': No such file or directory\n"
          ]
        }
      ],
      "source": [
        "%%bash\n",
        "#List all the files but with cleaner outputs for readability\n",
        "for f in $(ls *.*); do\n",
        "    echo $(wc -l $f)\n",
        "done"
      ]
    },
    {
      "cell_type": "markdown",
      "id": "amr2DlLQjIRX",
      "metadata": {
        "id": "amr2DlLQjIRX"
      },
      "source": [
        "# Torch"
      ]
    },
    {
      "cell_type": "code",
      "execution_count": null,
      "id": "uYezi7fKifGN",
      "metadata": {
        "colab": {
          "base_uri": "https://localhost:8080/"
        },
        "executionInfo": {
          "elapsed": 2,
          "status": "ok",
          "timestamp": 1710412737273,
          "user": {
            "displayName": "",
            "userId": ""
          },
          "user_tz": -540
        },
        "id": "uYezi7fKifGN",
        "outputId": "aa355022-c2e8-40c7-b48b-788b58e13de8"
      },
      "outputs": [
        {
          "data": {
            "text/plain": [
              "torch.Tensor"
            ]
          },
          "execution_count": 14,
          "metadata": {},
          "output_type": "execute_result"
        }
      ],
      "source": [
        "# Generate a tensor of size 2x3x4\n",
        "t = torch.Tensor(2,3,4)\n",
        "type(t)"
      ]
    },
    {
      "cell_type": "code",
      "execution_count": null,
      "id": "n3qTZx7TiymG",
      "metadata": {
        "colab": {
          "base_uri": "https://localhost:8080/"
        },
        "executionInfo": {
          "elapsed": 319,
          "status": "ok",
          "timestamp": 1710412759145,
          "user": {
            "displayName": "",
            "userId": ""
          },
          "user_tz": -540
        },
        "id": "n3qTZx7TiymG",
        "outputId": "f0a9e460-08b0-4ef6-cabc-43cb88e08b2b"
      },
      "outputs": [
        {
          "data": {
            "text/plain": [
              "torch.Size([2, 3, 4])"
            ]
          },
          "execution_count": 15,
          "metadata": {},
          "output_type": "execute_result"
        }
      ],
      "source": [
        "# Get the size of tensor\n",
        "t.size()"
      ]
    },
    {
      "cell_type": "code",
      "execution_count": null,
      "id": "3iDPlKiIi32a",
      "metadata": {
        "colab": {
          "base_uri": "https://localhost:8080/"
        },
        "executionInfo": {
          "elapsed": 3,
          "status": "ok",
          "timestamp": 1710412792780,
          "user": {
            "displayName": "",
            "userId": ""
          },
          "user_tz": -540
        },
        "id": "3iDPlKiIi32a",
        "outputId": "26becb18-74e7-4740-de79-fb3e4f3289fa"
      },
      "outputs": [
        {
          "name": "stdout",
          "output_type": "stream",
          "text": [
            "t size: 2 × 3 × 4\n"
          ]
        }
      ],
      "source": [
        "# t.size() is a classic tuple =>\n",
        "print('t size:', ' \\u00D7 '.join(map(str, t.size())))"
      ]
    },
    {
      "cell_type": "code",
      "execution_count": null,
      "id": "8d6lU6q9jACw",
      "metadata": {
        "colab": {
          "base_uri": "https://localhost:8080/"
        },
        "executionInfo": {
          "elapsed": 6,
          "status": "ok",
          "timestamp": 1710412923386,
          "user": {
            "displayName": "",
            "userId": ""
          },
          "user_tz": -540
        },
        "id": "8d6lU6q9jACw",
        "outputId": "8fc08539-a8e9-468c-8f4c-8506b828aa39"
      },
      "outputs": [
        {
          "name": "stdout",
          "output_type": "stream",
          "text": [
            "point in a 24 dimensional space\n",
            "point in a 3 dimensional space\n"
          ]
        }
      ],
      "source": [
        "# prints dimensional space and sub-dimensions\n",
        "print(f'point in a {t.numel()} dimensional space')\n",
        "print(f'point in a {t.dim()} dimensional space')"
      ]
    },
    {
      "cell_type": "code",
      "execution_count": null,
      "id": "QdKOyllpjf5I",
      "metadata": {
        "colab": {
          "base_uri": "https://localhost:8080/"
        },
        "executionInfo": {
          "elapsed": 1,
          "status": "ok",
          "timestamp": 1710412949190,
          "user": {
            "displayName": "",
            "userId": ""
          },
          "user_tz": -540
        },
        "id": "QdKOyllpjf5I",
        "outputId": "96a2d063-c8a3-444c-86cb-88cd9efd1bd0"
      },
      "outputs": [
        {
          "data": {
            "text/plain": [
              "tensor([[[-4.1314e+29,  4.3376e-41, -7.3362e-16,  3.2797e-41],\n",
              "         [ 4.4842e-44,  0.0000e+00,  8.9683e-44,  0.0000e+00],\n",
              "         [ 5.5232e-29,  3.2790e-41, -2.0777e+29,  4.3376e-41]],\n",
              "\n",
              "        [[ 1.3713e-36,  4.3376e-41, -2.2708e+29,  4.3376e-41],\n",
              "         [-2.0776e+29,  4.3376e-41, -2.2708e+29,  4.3376e-41],\n",
              "         [ 1.2417e-36,  4.3376e-41,  9.1084e-44,  0.0000e+00]]])"
            ]
          },
          "execution_count": 18,
          "metadata": {},
          "output_type": "execute_result"
        }
      ],
      "source": [
        "t"
      ]
    },
    {
      "cell_type": "code",
      "execution_count": null,
      "id": "u-wmx5D4jmDx",
      "metadata": {
        "colab": {
          "base_uri": "https://localhost:8080/"
        },
        "executionInfo": {
          "elapsed": 247,
          "status": "ok",
          "timestamp": 1710413109469,
          "user": {
            "displayName": "",
            "userId": ""
          },
          "user_tz": -540
        },
        "id": "u-wmx5D4jmDx",
        "outputId": "3d8643b2-0bac-44bb-d2d2-49010b7b06ba"
      },
      "outputs": [
        {
          "data": {
            "text/plain": [
              "tensor([[[-0.2890,  0.8592,  1.2191,  1.0729],\n",
              "         [ 0.7081,  0.1799,  1.2687, -0.8167],\n",
              "         [-0.5488,  1.0650, -0.8293, -1.8052]],\n",
              "\n",
              "        [[ 1.0673,  1.3211,  1.6640,  0.9754],\n",
              "         [-1.0386, -1.4806, -0.2841, -1.4173],\n",
              "         [ 1.5403, -0.1160,  1.2842,  0.6453]]])"
            ]
          },
          "execution_count": 19,
          "metadata": {},
          "output_type": "execute_result"
        }
      ],
      "source": [
        "# Mind the underscore!\n",
        "# Any operation that mutates a tensor in-place is post-fixed with an _.\n",
        "# For example: x.copy_(y), x.t_(), x.random_(n) will change x.\n",
        "# In-place operations are cheap on CUDA Tensors with .storage_offset() == 0.\n",
        "# See the CUDA NumPy compatibility guide for more detail.\n",
        "t.copy_(torch.randn(2,3,4))"
      ]
    },
    {
      "cell_type": "code",
      "execution_count": null,
      "id": "YwvGJ2IPkNWh",
      "metadata": {
        "colab": {
          "base_uri": "https://localhost:8080/"
        },
        "executionInfo": {
          "elapsed": 4,
          "status": "ok",
          "timestamp": 1710413140170,
          "user": {
            "displayName": "",
            "userId": ""
          },
          "user_tz": -540
        },
        "id": "YwvGJ2IPkNWh",
        "outputId": "e3a57435-b6d2-4d1e-eee7-281c98357593"
      },
      "outputs": [
        {
          "data": {
            "text/plain": [
              "tensor([[[9., 9., 6., 1.],\n",
              "         [5., 1., 0., 4.],\n",
              "         [1., 1., 5., 3.]],\n",
              "\n",
              "        [[6., 1., 1., 7.],\n",
              "         [4., 1., 1., 6.],\n",
              "         [4., 4., 8., 0.]]])"
            ]
          },
          "execution_count": 20,
          "metadata": {},
          "output_type": "execute_result"
        }
      ],
      "source": [
        "t.random_(10)"
      ]
    },
    {
      "cell_type": "code",
      "execution_count": null,
      "id": "J6fLE4OakU2t",
      "metadata": {
        "colab": {
          "base_uri": "https://localhost:8080/"
        },
        "executionInfo": {
          "elapsed": 268,
          "status": "ok",
          "timestamp": 1710413193513,
          "user": {
            "displayName": "",
            "userId": ""
          },
          "user_tz": -540
        },
        "id": "J6fLE4OakU2t",
        "outputId": "fa5fb6ca-84a1-4762-ea88-cd649e9001a6"
      },
      "outputs": [
        {
          "data": {
            "text/plain": [
              "tensor([[[9., 9., 6., 1.],\n",
              "         [5., 1., 0., 4.],\n",
              "         [1., 1., 5., 3.]],\n",
              "\n",
              "        [[6., 1., 1., 7.],\n",
              "         [4., 1., 1., 6.],\n",
              "         [4., 4., 8., 0.]]])"
            ]
          },
          "execution_count": 21,
          "metadata": {},
          "output_type": "execute_result"
        }
      ],
      "source": [
        "t"
      ]
    },
    {
      "cell_type": "code",
      "execution_count": null,
      "id": "3FktB_Vukh6O",
      "metadata": {
        "colab": {
          "base_uri": "https://localhost:8080/"
        },
        "executionInfo": {
          "elapsed": 269,
          "status": "ok",
          "timestamp": 1710413301383,
          "user": {
            "displayName": "",
            "userId": ""
          },
          "user_tz": -540
        },
        "id": "3FktB_Vukh6O",
        "outputId": "13142424-063b-4bbb-8de4-74cb0d70efdc"
      },
      "outputs": [
        {
          "data": {
            "text/plain": [
              "tensor([[[9., 9., 6., 1.],\n",
              "         [5., 1., 0., 4.],\n",
              "         [1., 1., 5., 3.]],\n",
              "\n",
              "        [[6., 1., 1., 7.],\n",
              "         [4., 1., 1., 6.],\n",
              "         [4., 4., 8., 0.]]])"
            ]
          },
          "execution_count": 22,
          "metadata": {},
          "output_type": "execute_result"
        }
      ],
      "source": [
        "# resize the tensor permanently\n",
        "r = torch.Tensor(t)\n",
        "r"
      ]
    },
    {
      "cell_type": "code",
      "execution_count": null,
      "id": "ULBKyrvIk8Jl",
      "metadata": {
        "colab": {
          "base_uri": "https://localhost:8080/"
        },
        "executionInfo": {
          "elapsed": 232,
          "status": "ok",
          "timestamp": 1710413306586,
          "user": {
            "displayName": "",
            "userId": ""
          },
          "user_tz": -540
        },
        "id": "ULBKyrvIk8Jl",
        "outputId": "263ea6d8-9d7b-4216-8d12-d5cf622e5a1b"
      },
      "outputs": [
        {
          "data": {
            "text/plain": [
              "tensor([[9., 9., 6., 1., 5., 1., 0., 4.],\n",
              "        [1., 1., 5., 3., 6., 1., 1., 7.],\n",
              "        [4., 1., 1., 6., 4., 4., 8., 0.]])"
            ]
          },
          "execution_count": 23,
          "metadata": {},
          "output_type": "execute_result"
        }
      ],
      "source": [
        "r.resize_(3,8)"
      ]
    },
    {
      "cell_type": "code",
      "execution_count": null,
      "id": "zXE-_sNEk9eb",
      "metadata": {
        "colab": {
          "base_uri": "https://localhost:8080/"
        },
        "executionInfo": {
          "elapsed": 254,
          "status": "ok",
          "timestamp": 1710413393910,
          "user": {
            "displayName": "",
            "userId": ""
          },
          "user_tz": -540
        },
        "id": "zXE-_sNEk9eb",
        "outputId": "a03a8a34-fd84-4c38-f844-c47b95038bb0"
      },
      "outputs": [
        {
          "data": {
            "text/plain": [
              "tensor([[0., 0., 0., 0., 0., 0., 0., 0.],\n",
              "        [0., 0., 0., 0., 0., 0., 0., 0.],\n",
              "        [0., 0., 0., 0., 0., 0., 0., 0.]])"
            ]
          },
          "execution_count": 24,
          "metadata": {},
          "output_type": "execute_result"
        }
      ],
      "source": [
        "# As you can see zero_ would replace r with 0's which was originally filled with integers\n",
        "r.zero_()"
      ]
    },
    {
      "cell_type": "code",
      "execution_count": null,
      "id": "Kz7qTO8PlSvs",
      "metadata": {
        "colab": {
          "base_uri": "https://localhost:8080/"
        },
        "executionInfo": {
          "elapsed": 3,
          "status": "ok",
          "timestamp": 1710413429286,
          "user": {
            "displayName": "",
            "userId": ""
          },
          "user_tz": -540
        },
        "id": "Kz7qTO8PlSvs",
        "outputId": "ec5da325-308a-470b-af6f-5b702b55845e"
      },
      "outputs": [
        {
          "data": {
            "text/plain": [
              "tensor([[0., 0., 0., 0., 0., 0., 0., 0.],\n",
              "        [0., 0., 0., 0., 0., 0., 0., 0.],\n",
              "        [0., 0., 0., 0., 0., 0., 0., 0.]])"
            ]
          },
          "execution_count": 25,
          "metadata": {},
          "output_type": "execute_result"
        }
      ],
      "source": [
        "# This is important\n",
        "s = r.clone()\n",
        "s"
      ]
    },
    {
      "cell_type": "code",
      "execution_count": null,
      "id": "mpVfVUt0lbdR",
      "metadata": {
        "colab": {
          "base_uri": "https://localhost:8080/"
        },
        "executionInfo": {
          "elapsed": 3,
          "status": "ok",
          "timestamp": 1710413445497,
          "user": {
            "displayName": "",
            "userId": ""
          },
          "user_tz": -540
        },
        "id": "mpVfVUt0lbdR",
        "outputId": "7d844ed1-93ff-4fd3-ea10-5863424ffbb8"
      },
      "outputs": [
        {
          "data": {
            "text/plain": [
              "tensor([[1., 1., 1., 1., 1., 1., 1., 1.],\n",
              "        [1., 1., 1., 1., 1., 1., 1., 1.],\n",
              "        [1., 1., 1., 1., 1., 1., 1., 1.]])"
            ]
          },
          "execution_count": 26,
          "metadata": {},
          "output_type": "execute_result"
        }
      ],
      "source": [
        "s.fill_(1)"
      ]
    },
    {
      "cell_type": "code",
      "execution_count": null,
      "id": "bLKSWCL-lfYR",
      "metadata": {
        "colab": {
          "base_uri": "https://localhost:8080/"
        },
        "executionInfo": {
          "elapsed": 2,
          "status": "ok",
          "timestamp": 1710413454719,
          "user": {
            "displayName": "",
            "userId": ""
          },
          "user_tz": -540
        },
        "id": "bLKSWCL-lfYR",
        "outputId": "eb7d98a0-d45f-4ded-a59b-9ec49b1ebb43"
      },
      "outputs": [
        {
          "data": {
            "text/plain": [
              "tensor([[0., 0., 0., 0., 0., 0., 0., 0.],\n",
              "        [0., 0., 0., 0., 0., 0., 0., 0.],\n",
              "        [0., 0., 0., 0., 0., 0., 0., 0.]])"
            ]
          },
          "execution_count": 27,
          "metadata": {},
          "output_type": "execute_result"
        }
      ],
      "source": [
        "# Because we cloned r, even though we did an in-operation, this doesn't affect r\n",
        "r"
      ]
    },
    {
      "cell_type": "markdown",
      "id": "dIM_2nLtlyg8",
      "metadata": {
        "id": "dIM_2nLtlyg8"
      },
      "source": [
        "## 1-D Tensors/ Vectors"
      ]
    },
    {
      "cell_type": "code",
      "execution_count": null,
      "id": "8UTxS_8mlhlN",
      "metadata": {
        "colab": {
          "base_uri": "https://localhost:8080/"
        },
        "executionInfo": {
          "elapsed": 3,
          "status": "ok",
          "timestamp": 1710413613128,
          "user": {
            "displayName": "",
            "userId": ""
          },
          "user_tz": -540
        },
        "id": "8UTxS_8mlhlN",
        "outputId": "cdf683f5-8522-447e-c5e0-0cf83af69445"
      },
      "outputs": [
        {
          "data": {
            "text/plain": [
              "tensor([1., 2., 3., 4.])"
            ]
          },
          "execution_count": 28,
          "metadata": {},
          "output_type": "execute_result"
        }
      ],
      "source": [
        "# Creates a 1D of dimentions (1D) and size of tensor\n",
        "v = torch.Tensor( [1, 2, 3, 4])\n",
        "v"
      ]
    },
    {
      "cell_type": "code",
      "execution_count": null,
      "id": "4R0xp29dmIKI",
      "metadata": {
        "colab": {
          "base_uri": "https://localhost:8080/"
        },
        "executionInfo": {
          "elapsed": 250,
          "status": "ok",
          "timestamp": 1710413641093,
          "user": {
            "displayName": "",
            "userId": ""
          },
          "user_tz": -540
        },
        "id": "4R0xp29dmIKI",
        "outputId": "3204ebc2-c4cb-4573-dadf-e6589a03b334"
      },
      "outputs": [
        {
          "name": "stdout",
          "output_type": "stream",
          "text": [
            "dim: 1\n",
            "size: torch.Size([4])\n",
            "numel: 4\n"
          ]
        }
      ],
      "source": [
        "print(f'dim: {v.dim()}')\n",
        "print(f'size: {v.size()}')\n",
        "print(f'numel: {v.numel()}')"
      ]
    },
    {
      "cell_type": "code",
      "execution_count": null,
      "id": "h8ReY4qtmPJg",
      "metadata": {
        "colab": {
          "base_uri": "https://localhost:8080/"
        },
        "executionInfo": {
          "elapsed": 279,
          "status": "ok",
          "timestamp": 1710413674141,
          "user": {
            "displayName": "",
            "userId": ""
          },
          "user_tz": -540
        },
        "id": "h8ReY4qtmPJg",
        "outputId": "e29b2efe-1eff-4361-aa7f-2eced4dd9e4e"
      },
      "outputs": [
        {
          "data": {
            "text/plain": [
              "tensor([1., 0., 2., 0.])"
            ]
          },
          "execution_count": 30,
          "metadata": {},
          "output_type": "execute_result"
        }
      ],
      "source": [
        "w = torch.Tensor( [1, 0, 2, 0])\n",
        "w"
      ]
    },
    {
      "cell_type": "code",
      "execution_count": null,
      "id": "DkPcjqe_mXL-",
      "metadata": {
        "colab": {
          "base_uri": "https://localhost:8080/"
        },
        "executionInfo": {
          "elapsed": 3,
          "status": "ok",
          "timestamp": 1710413706378,
          "user": {
            "displayName": "",
            "userId": ""
          },
          "user_tz": -540
        },
        "id": "DkPcjqe_mXL-",
        "outputId": "ee40c24d-b9b1-429e-a333-8f1779c352a4"
      },
      "outputs": [
        {
          "data": {
            "text/plain": [
              "tensor([1., 0., 6., 0.])"
            ]
          },
          "execution_count": 31,
          "metadata": {},
          "output_type": "execute_result"
        }
      ],
      "source": [
        "# element-wise multiplication\n",
        "v * w"
      ]
    },
    {
      "cell_type": "code",
      "execution_count": null,
      "id": "jqa3Yv2GmfCM",
      "metadata": {
        "colab": {
          "base_uri": "https://localhost:8080/"
        },
        "executionInfo": {
          "elapsed": 2,
          "status": "ok",
          "timestamp": 1710413758801,
          "user": {
            "displayName": "",
            "userId": ""
          },
          "user_tz": -540
        },
        "id": "jqa3Yv2GmfCM",
        "outputId": "31a2aeb4-00f9-4e1e-b658-0bff387e0a32"
      },
      "outputs": [
        {
          "data": {
            "text/plain": [
              "tensor(7.)"
            ]
          },
          "execution_count": 32,
          "metadata": {},
          "output_type": "execute_result"
        }
      ],
      "source": [
        "# Scalar product: 1*1 + 2*0 + 3*2 + 4*0\n",
        "v@w"
      ]
    },
    {
      "cell_type": "code",
      "execution_count": null,
      "id": "bUydnrZumr3-",
      "metadata": {
        "id": "bUydnrZumr3-"
      },
      "outputs": [],
      "source": [
        "# inplace replacement of random from 0 to 10\n",
        "x = torch.Tensor(5)"
      ]
    },
    {
      "cell_type": "code",
      "execution_count": null,
      "id": "r53nUVM6m3dQ",
      "metadata": {
        "colab": {
          "base_uri": "https://localhost:8080/"
        },
        "executionInfo": {
          "elapsed": 362,
          "status": "ok",
          "timestamp": 1710413809655,
          "user": {
            "displayName": "",
            "userId": ""
          },
          "user_tz": -540
        },
        "id": "r53nUVM6m3dQ",
        "outputId": "fcf59e11-02ee-42d1-a043-ccb0224b2378"
      },
      "outputs": [
        {
          "data": {
            "text/plain": [
              "tensor([-4.1314e+29,  4.3376e-41, -4.1314e+29,  4.3376e-41,  4.4842e-44])"
            ]
          },
          "execution_count": 34,
          "metadata": {},
          "output_type": "execute_result"
        }
      ],
      "source": [
        "x"
      ]
    },
    {
      "cell_type": "code",
      "execution_count": null,
      "id": "gpZwct3nm4Rf",
      "metadata": {
        "colab": {
          "base_uri": "https://localhost:8080/"
        },
        "executionInfo": {
          "elapsed": 3,
          "status": "ok",
          "timestamp": 1710413822955,
          "user": {
            "displayName": "",
            "userId": ""
          },
          "user_tz": -540
        },
        "id": "gpZwct3nm4Rf",
        "outputId": "a67407ef-f9e1-4bfd-ce58-50ee269cd02b"
      },
      "outputs": [
        {
          "data": {
            "text/plain": [
              "tensor([0., 7., 6., 5., 5.])"
            ]
          },
          "execution_count": 35,
          "metadata": {},
          "output_type": "execute_result"
        }
      ],
      "source": [
        "x.random_(10)"
      ]
    },
    {
      "cell_type": "code",
      "execution_count": null,
      "id": "fMgOaY7tm7fC",
      "metadata": {
        "colab": {
          "base_uri": "https://localhost:8080/"
        },
        "executionInfo": {
          "elapsed": 3,
          "status": "ok",
          "timestamp": 1710413887352,
          "user": {
            "displayName": "",
            "userId": ""
          },
          "user_tz": -540
        },
        "id": "fMgOaY7tm7fC",
        "outputId": "9a6ea678-4051-4dba-845a-0b351060f0df"
      },
      "outputs": [
        {
          "name": "stdout",
          "output_type": "stream",
          "text": [
            "first: 0.0, last: 5.0\n"
          ]
        }
      ],
      "source": [
        "print(f'first: {x[0]}, last: {x[-1]}')"
      ]
    },
    {
      "cell_type": "code",
      "execution_count": null,
      "id": "F9IMhuFJnLT0",
      "metadata": {
        "colab": {
          "base_uri": "https://localhost:8080/"
        },
        "executionInfo": {
          "elapsed": 2,
          "status": "ok",
          "timestamp": 1710413924065,
          "user": {
            "displayName": "",
            "userId": ""
          },
          "user_tz": -540
        },
        "id": "F9IMhuFJnLT0",
        "outputId": "8b95883f-999b-41e0-ae52-5112ad9d4ce5"
      },
      "outputs": [
        {
          "data": {
            "text/plain": [
              "tensor([7., 6.])"
            ]
          },
          "execution_count": 37,
          "metadata": {},
          "output_type": "execute_result"
        }
      ],
      "source": [
        "# Extract sub-Tensor\n",
        "x[1:2+1]"
      ]
    },
    {
      "cell_type": "code",
      "execution_count": 2,
      "id": "PmDCGIUBnUL5",
      "metadata": {
        "colab": {
          "base_uri": "https://localhost:8080/"
        },
        "executionInfo": {
          "elapsed": 2,
          "status": "ok",
          "timestamp": 1710413939366,
          "user": {
            "displayName": "",
            "userId": ""
          },
          "user_tz": -540
        },
        "id": "PmDCGIUBnUL5",
        "outputId": "bcb01e04-2d7f-4205-d061-bdfbb6085d30"
      },
      "outputs": [],
      "source": [
        "import torch"
      ]
    },
    {
      "cell_type": "code",
      "execution_count": null,
      "id": "80GF6j0_nX8p",
      "metadata": {
        "colab": {
          "base_uri": "https://localhost:8080/"
        },
        "executionInfo": {
          "elapsed": 3,
          "status": "ok",
          "timestamp": 1710413989094,
          "user": {
            "displayName": "",
            "userId": ""
          },
          "user_tz": -540
        },
        "id": "80GF6j0_nX8p",
        "outputId": "47084bf8-7f64-493e-db85-8b7a965de9be"
      },
      "outputs": [
        {
          "data": {
            "text/plain": [
              "tensor([1, 2, 3, 4])"
            ]
          },
          "execution_count": 39,
          "metadata": {},
          "output_type": "execute_result"
        }
      ],
      "source": [
        "# Create a tensor with integers ranging from 1 to 5, excluding 5\n",
        "v = torch.arange(1, 5)\n",
        "v"
      ]
    },
    {
      "cell_type": "code",
      "execution_count": null,
      "id": "rpPoryZnnkFX",
      "metadata": {
        "colab": {
          "base_uri": "https://localhost:8080/"
        },
        "executionInfo": {
          "elapsed": 392,
          "status": "ok",
          "timestamp": 1710414028927,
          "user": {
            "displayName": "",
            "userId": ""
          },
          "user_tz": -540
        },
        "id": "rpPoryZnnkFX",
        "outputId": "656cd9e9-a0c6-472b-bf53-5fe92f874485"
      },
      "outputs": [
        {
          "name": "stdout",
          "output_type": "stream",
          "text": [
            "tensor([ 1,  4,  9, 16]) tensor([1, 2, 3, 4])\n"
          ]
        }
      ],
      "source": [
        "# Square all elements in the tensor\n",
        "print(v.pow(2), v)"
      ]
    },
    {
      "cell_type": "code",
      "execution_count": null,
      "id": "SZWF7Qimntzd",
      "metadata": {
        "colab": {
          "base_uri": "https://localhost:8080/"
        },
        "executionInfo": {
          "elapsed": 2,
          "status": "ok",
          "timestamp": 1710414133384,
          "user": {
            "displayName": "",
            "userId": ""
          },
          "user_tz": -540
        },
        "id": "SZWF7Qimntzd",
        "outputId": "62e915de-543e-4e18-fd77-8d3050835f23"
      },
      "outputs": [
        {
          "data": {
            "text/plain": [
              "tensor([0, 3, 6])"
            ]
          },
          "execution_count": 42,
          "metadata": {},
          "output_type": "execute_result"
        }
      ],
      "source": [
        "torch.arange(0, 8, 3)"
      ]
    },
    {
      "cell_type": "code",
      "execution_count": null,
      "id": "HMvHtqQ6oFku",
      "metadata": {
        "colab": {
          "base_uri": "https://localhost:8080/"
        },
        "executionInfo": {
          "elapsed": 3,
          "status": "ok",
          "timestamp": 1710414164620,
          "user": {
            "displayName": "",
            "userId": ""
          },
          "user_tz": -540
        },
        "id": "HMvHtqQ6oFku",
        "outputId": "966b6fd4-1ce8-4e0e-bdf6-dea5ad4ae10b"
      },
      "outputs": [
        {
          "data": {
            "text/plain": [
              "tensor([3.0000, 3.2632, 3.5263, 3.7895, 4.0526, 4.3158, 4.5789, 4.8421, 5.1053,\n",
              "        5.3684, 5.6316, 5.8947, 6.1579, 6.4211, 6.6842, 6.9474, 7.2105, 7.4737,\n",
              "        7.7368, 8.0000])"
            ]
          },
          "execution_count": 43,
          "metadata": {},
          "output_type": "execute_result"
        }
      ],
      "source": [
        "torch.linspace(3, 8, 20)"
      ]
    },
    {
      "cell_type": "code",
      "execution_count": null,
      "id": "TAN8g-5noO9l",
      "metadata": {
        "colab": {
          "base_uri": "https://localhost:8080/"
        },
        "executionInfo": {
          "elapsed": 4,
          "status": "ok",
          "timestamp": 1710414206303,
          "user": {
            "displayName": "",
            "userId": ""
          },
          "user_tz": -540
        },
        "id": "TAN8g-5noO9l",
        "outputId": "8dd202a3-6c9a-4ad0-b587-accc2e8eea47"
      },
      "outputs": [
        {
          "data": {
            "text/plain": [
              "tensor([[3.0000, 3.2632, 3.5263, 3.7895, 4.0526, 4.3158, 4.5789, 4.8421, 5.1053,\n",
              "         5.3684, 5.6316, 5.8947, 6.1579, 6.4211, 6.6842, 6.9474, 7.2105, 7.4737,\n",
              "         7.7368, 8.0000]])"
            ]
          },
          "execution_count": 44,
          "metadata": {},
          "output_type": "execute_result"
        }
      ],
      "source": [
        "torch.linspace(3,8, 20).view(1,-1)"
      ]
    },
    {
      "cell_type": "code",
      "execution_count": null,
      "id": "uoPs5IDMoZJr",
      "metadata": {
        "colab": {
          "base_uri": "https://localhost:8080/"
        },
        "executionInfo": {
          "elapsed": 16,
          "status": "ok",
          "timestamp": 1710414383016,
          "user": {
            "displayName": "",
            "userId": ""
          },
          "user_tz": -540
        },
        "id": "uoPs5IDMoZJr",
        "outputId": "d7a87a13-b82a-4025-9154-d78f8b81c67d"
      },
      "outputs": [
        {
          "data": {
            "text/plain": [
              "tensor([[3.0000, 3.2632, 3.5263, 3.7895, 4.0526],\n",
              "        [4.3158, 4.5789, 4.8421, 5.1053, 5.3684],\n",
              "        [5.6316, 5.8947, 6.1579, 6.4211, 6.6842],\n",
              "        [6.9474, 7.2105, 7.4737, 7.7368, 8.0000]])"
            ]
          },
          "execution_count": 51,
          "metadata": {},
          "output_type": "execute_result"
        }
      ],
      "source": [
        "torch.linspace(3,8, 20).view(4,5)"
      ]
    },
    {
      "cell_type": "markdown",
      "id": "XmvlafWnrxq3",
      "metadata": {
        "id": "XmvlafWnrxq3"
      },
      "source": [
        "## 2-D Tensors/ Vectors"
      ]
    },
    {
      "cell_type": "code",
      "execution_count": null,
      "id": "poI0AX6xoeSs",
      "metadata": {
        "colab": {
          "base_uri": "https://localhost:8080/"
        },
        "executionInfo": {
          "elapsed": 327,
          "status": "ok",
          "timestamp": 1710414433671,
          "user": {
            "displayName": "",
            "userId": ""
          },
          "user_tz": -540
        },
        "id": "poI0AX6xoeSs",
        "outputId": "9cb890c1-734a-425c-eec0-8e9fffcf616e"
      },
      "outputs": [
        {
          "data": {
            "text/plain": [
              "tensor([[1., 0., 0.],\n",
              "        [0., 1., 0.],\n",
              "        [0., 0., 1.]])"
            ]
          },
          "execution_count": 52,
          "metadata": {},
          "output_type": "execute_result"
        }
      ],
      "source": [
        "torch.eye(3)"
      ]
    },
    {
      "cell_type": "code",
      "execution_count": null,
      "id": "BkmIHq_wr268",
      "metadata": {
        "colab": {
          "base_uri": "https://localhost:8080/"
        },
        "executionInfo": {
          "elapsed": 278,
          "status": "ok",
          "timestamp": 1710415151081,
          "user": {
            "displayName": "",
            "userId": ""
          },
          "user_tz": -540
        },
        "id": "BkmIHq_wr268",
        "outputId": "7ac0641a-432e-4b55-b066-20bb7291d1c5"
      },
      "outputs": [
        {
          "data": {
            "text/plain": [
              "tensor([[-3.5502e-16,  3.2797e-41, -4.1313e+29,  4.3376e-41],\n",
              "        [ 0.0000e+00,  0.0000e+00,  0.0000e+00,  0.0000e+00]])"
            ]
          },
          "execution_count": 54,
          "metadata": {},
          "output_type": "execute_result"
        }
      ],
      "source": [
        "# Create a 2x4 tensor\n",
        "m = torch.Tensor(2,4)\n",
        "m"
      ]
    },
    {
      "cell_type": "code",
      "execution_count": null,
      "id": "LBqe7Rx-sC1O",
      "metadata": {
        "colab": {
          "base_uri": "https://localhost:8080/"
        },
        "executionInfo": {
          "elapsed": 274,
          "status": "ok",
          "timestamp": 1710415169939,
          "user": {
            "displayName": "",
            "userId": ""
          },
          "user_tz": -540
        },
        "id": "LBqe7Rx-sC1O",
        "outputId": "4f24dfb7-7c25-44c4-d16b-1ed5e88aa95f"
      },
      "outputs": [
        {
          "data": {
            "text/plain": [
              "2"
            ]
          },
          "execution_count": 55,
          "metadata": {},
          "output_type": "execute_result"
        }
      ],
      "source": [
        "m.dim()"
      ]
    },
    {
      "cell_type": "code",
      "execution_count": null,
      "id": "HuPH7E6IsHnh",
      "metadata": {
        "colab": {
          "base_uri": "https://localhost:8080/"
        },
        "executionInfo": {
          "elapsed": 246,
          "status": "ok",
          "timestamp": 1710415189862,
          "user": {
            "displayName": "",
            "userId": ""
          },
          "user_tz": -540
        },
        "id": "HuPH7E6IsHnh",
        "outputId": "6abc18d1-0084-403b-9698-80c4328420c9"
      },
      "outputs": [
        {
          "data": {
            "text/plain": [
              "torch.Size([2, 4])"
            ]
          },
          "execution_count": 56,
          "metadata": {},
          "output_type": "execute_result"
        }
      ],
      "source": [
        "m.size()"
      ]
    },
    {
      "cell_type": "code",
      "execution_count": null,
      "id": "wdXIwlg-pQpB",
      "metadata": {
        "colab": {
          "base_uri": "https://localhost:8080/"
        },
        "executionInfo": {
          "elapsed": 266,
          "status": "ok",
          "timestamp": 1710415194972,
          "user": {
            "displayName": "",
            "userId": ""
          },
          "user_tz": -540
        },
        "id": "wdXIwlg-pQpB",
        "outputId": "699e5cc3-23b1-4371-c1e1-d69d61dcf645"
      },
      "outputs": [
        {
          "data": {
            "text/plain": [
              "tensor([[-3.5502e-16,  3.2797e-41, -4.1313e+29,  4.3376e-41],\n",
              "        [ 0.0000e+00,  0.0000e+00,  0.0000e+00,  0.0000e+00]])"
            ]
          },
          "execution_count": 57,
          "metadata": {},
          "output_type": "execute_result"
        }
      ],
      "source": [
        "# Move your tensor to GPU device 0 if there is one (first GPU in the system)\n",
        "device = torch.device(\"cuda:0\" if torch.cuda.is_available() else \"cpu\")\n",
        "m.to(device)"
      ]
    },
    {
      "cell_type": "code",
      "execution_count": null,
      "id": "ihEwdOZgrhiL",
      "metadata": {
        "colab": {
          "base_uri": "https://localhost:8080/"
        },
        "executionInfo": {
          "elapsed": 251,
          "status": "ok",
          "timestamp": 1710415220677,
          "user": {
            "displayName": "",
            "userId": ""
          },
          "user_tz": -540
        },
        "id": "ihEwdOZgrhiL",
        "outputId": "731c9d71-0b90-4910-ca6e-3ea420c527ea"
      },
      "outputs": [
        {
          "name": "stdout",
          "output_type": "stream",
          "text": [
            "torch.cuda.is_available() = False\n"
          ]
        }
      ],
      "source": [
        "print(f'torch.cuda.is_available() = {torch.cuda.is_available()}')"
      ]
    },
    {
      "cell_type": "code",
      "execution_count": 33,
      "id": "A9KWWoQOsQv-",
      "metadata": {
        "id": "A9KWWoQOsQv-"
      },
      "outputs": [],
      "source": [
        "import torch"
      ]
    },
    {
      "cell_type": "code",
      "execution_count": 34,
      "id": "7a2b4e25",
      "metadata": {},
      "outputs": [
        {
          "name": "stdout",
          "output_type": "stream",
          "text": [
            "<class 'torch.Tensor'>\n",
            "torch.float32\n"
          ]
        }
      ],
      "source": [
        "data0 = torch.tensor(1.0).float()\n",
        "#type\n",
        "print(type(data0))\n",
        "print(data0.dtype)"
      ]
    },
    {
      "cell_type": "code",
      "execution_count": 35,
      "id": "891df4c1",
      "metadata": {},
      "outputs": [
        {
          "name": "stdout",
          "output_type": "stream",
          "text": [
            "[-2.   -1.75 -1.5  -1.25 -1.   -0.75 -0.5  -0.25  0.    0.25  0.5   0.75\n",
            "  1.    1.25  1.5   1.75  2.  ]\n"
          ]
        }
      ],
      "source": [
        "import numpy as np\n",
        "# numpy array\n",
        "x_np = np.arange(-2, 2.1, 0.25)\n",
        "\n",
        "print(x_np)"
      ]
    },
    {
      "cell_type": "code",
      "execution_count": 36,
      "id": "6870828d",
      "metadata": {},
      "outputs": [
        {
          "name": "stdout",
          "output_type": "stream",
          "text": [
            "tensor([-2.0000, -1.7500, -1.5000, -1.2500, -1.0000, -0.7500, -0.5000, -0.2500,\n",
            "         0.0000,  0.2500,  0.5000,  0.7500,  1.0000,  1.2500,  1.5000,  1.7500,\n",
            "         2.0000], grad_fn=<ToCopyBackward0>)\n"
          ]
        }
      ],
      "source": [
        "# torchで勾配計算用変数に変換\n",
        "\n",
        "x = torch.tensor(x_np, requires_grad=True).float()\n",
        "\n",
        "print(x)"
      ]
    },
    {
      "cell_type": "code",
      "execution_count": 37,
      "id": "5944aacd",
      "metadata": {},
      "outputs": [
        {
          "name": "stdout",
          "output_type": "stream",
          "text": [
            "tensor([11.0000,  9.1250,  7.5000,  6.1250,  5.0000,  4.1250,  3.5000,  3.1250,\n",
            "         3.0000,  3.1250,  3.5000,  4.1250,  5.0000,  6.1250,  7.5000,  9.1250,\n",
            "        11.0000], grad_fn=<AddBackward0>)\n"
          ]
        }
      ],
      "source": [
        "# 2次関数を作成\n",
        "y = 2 * x ** 2 + 3\n",
        "\n",
        "print(y)"
      ]
    },
    {
      "cell_type": "code",
      "execution_count": 38,
      "id": "daf4b718",
      "metadata": {},
      "outputs": [
        {
          "data": {
            "image/png": "[encoded data removed]",
            "text/plain": [
              "<Figure size 832x572 with 1 Axes>"
            ]
          },
          "metadata": {},
          "output_type": "display_data"
        }
      ],
      "source": [
        "import matplotlib.pyplot as plt\n",
        "plt.style.use('bmh')\n",
        "\n",
        "plt.plot(x.data, y.data, color=\"r\", label=r\"$y=2x^2+3$\" )\n",
        "plt.legend(loc=\"upper right\")\n",
        "plt.xlabel(\"x\")\n",
        "plt.ylabel(\"y\")\n",
        "plt.show()\n"
      ]
    },
    {
      "cell_type": "code",
      "execution_count": 39,
      "id": "e5f47c7c",
      "metadata": {},
      "outputs": [],
      "source": [
        "z = y.sum()"
      ]
    },
    {
      "cell_type": "code",
      "execution_count": 40,
      "id": "dda54d7c",
      "metadata": {},
      "outputs": [
        {
          "data": {
            "image/svg+xml": [
              "<?xml version=\"1.0\" encoding=\"UTF-8\" standalone=\"no\"?>\n",
              "<!DOCTYPE svg PUBLIC \"-//W3C//DTD SVG 1.1//EN\"\n",
              " \"http://www.w3.org/Graphics/SVG/1.1/DTD/svg11.dtd\">\n",
              "<!-- Generated by graphviz version 10.0.1 (20240210.2158)\n",
              " -->\n",
              "<!-- Pages: 1 -->\n",
              "<svg width=\"114pt\" height=\"438pt\"\n",
              " viewBox=\"0.00 0.00 114.00 438.00\" xmlns=\"http://www.w3.org/2000/svg\" xmlns:xlink=\"http://www.w3.org/1999/xlink\">\n",
              "<g id=\"graph0\" class=\"graph\" transform=\"scale(1 1) rotate(0) translate(4 434)\">\n",
              "<polygon fill=\"white\" stroke=\"none\" points=\"-4,4 -4,-434 110,-434 110,4 -4,4\"/>\n",
              "<!-- 5971917232 -->\n",
              "<g id=\"node1\" class=\"node\">\n",
              "<title>5971917232</title>\n",
              "<polygon fill=\"#caff70\" stroke=\"black\" points=\"80,-31.25 26,-31.25 26,0 80,0 80,-31.25\"/>\n",
              "<text text-anchor=\"middle\" x=\"53\" y=\"-5.75\" font-family=\"monospace\" font-size=\"10.00\"> ()</text>\n",
              "</g>\n",
              "<!-- 5991069920 -->\n",
              "<g id=\"node2\" class=\"node\">\n",
              "<title>5991069920</title>\n",
              "<polygon fill=\"lightgrey\" stroke=\"black\" points=\"97,-86.5 9,-86.5 9,-67.25 97,-67.25 97,-86.5\"/>\n",
              "<text text-anchor=\"middle\" x=\"53\" y=\"-73\" font-family=\"monospace\" font-size=\"10.00\">SumBackward0</text>\n",
              "</g>\n",
              "<!-- 5991069920&#45;&gt;5971917232 -->\n",
              "<g id=\"edge7\" class=\"edge\">\n",
              "<title>5991069920&#45;&gt;5971917232</title>\n",
              "<path fill=\"none\" stroke=\"black\" d=\"M53,-66.88C53,-60.54 53,-51.7 53,-43.2\"/>\n",
              "<polygon fill=\"black\" stroke=\"black\" points=\"56.5,-43.22 53,-33.22 49.5,-43.22 56.5,-43.22\"/>\n",
              "</g>\n",
              "<!-- 5991068480 -->\n",
              "<g id=\"node3\" class=\"node\">\n",
              "<title>5991068480</title>\n",
              "<polygon fill=\"lightgrey\" stroke=\"black\" points=\"97,-141.75 9,-141.75 9,-122.5 97,-122.5 97,-141.75\"/>\n",
              "<text text-anchor=\"middle\" x=\"53\" y=\"-128.25\" font-family=\"monospace\" font-size=\"10.00\">AddBackward0</text>\n",
              "</g>\n",
              "<!-- 5991068480&#45;&gt;5991069920 -->\n",
              "<g id=\"edge1\" class=\"edge\">\n",
              "<title>5991068480&#45;&gt;5991069920</title>\n",
              "<path fill=\"none\" stroke=\"black\" d=\"M53,-122.33C53,-115.82 53,-106.67 53,-98.37\"/>\n",
              "<polygon fill=\"black\" stroke=\"black\" points=\"56.5,-98.37 53,-88.37 49.5,-98.37 56.5,-98.37\"/>\n",
              "</g>\n",
              "<!-- 5991067904 -->\n",
              "<g id=\"node4\" class=\"node\">\n",
              "<title>5991067904</title>\n",
              "<polygon fill=\"lightgrey\" stroke=\"black\" points=\"97,-197 9,-197 9,-177.75 97,-177.75 97,-197\"/>\n",
              "<text text-anchor=\"middle\" x=\"53\" y=\"-183.5\" font-family=\"monospace\" font-size=\"10.00\">MulBackward0</text>\n",
              "</g>\n",
              "<!-- 5991067904&#45;&gt;5991068480 -->\n",
              "<g id=\"edge2\" class=\"edge\">\n",
              "<title>5991067904&#45;&gt;5991068480</title>\n",
              "<path fill=\"none\" stroke=\"black\" d=\"M53,-177.58C53,-171.07 53,-161.92 53,-153.62\"/>\n",
              "<polygon fill=\"black\" stroke=\"black\" points=\"56.5,-153.62 53,-143.62 49.5,-153.62 56.5,-153.62\"/>\n",
              "</g>\n",
              "<!-- 5991460352 -->\n",
              "<g id=\"node5\" class=\"node\">\n",
              "<title>5991460352</title>\n",
              "<polygon fill=\"lightgrey\" stroke=\"black\" points=\"97,-252.25 9,-252.25 9,-233 97,-233 97,-252.25\"/>\n",
              "<text text-anchor=\"middle\" x=\"53\" y=\"-238.75\" font-family=\"monospace\" font-size=\"10.00\">PowBackward0</text>\n",
              "</g>\n",
              "<!-- 5991460352&#45;&gt;5991067904 -->\n",
              "<g id=\"edge3\" class=\"edge\">\n",
              "<title>5991460352&#45;&gt;5991067904</title>\n",
              "<path fill=\"none\" stroke=\"black\" d=\"M53,-232.83C53,-226.32 53,-217.17 53,-208.87\"/>\n",
              "<polygon fill=\"black\" stroke=\"black\" points=\"56.5,-208.87 53,-198.87 49.5,-208.87 56.5,-208.87\"/>\n",
              "</g>\n",
              "<!-- 5991454976 -->\n",
              "<g id=\"node6\" class=\"node\">\n",
              "<title>5991454976</title>\n",
              "<polygon fill=\"lightgrey\" stroke=\"black\" points=\"106,-307.5 0,-307.5 0,-288.25 106,-288.25 106,-307.5\"/>\n",
              "<text text-anchor=\"middle\" x=\"53\" y=\"-294\" font-family=\"monospace\" font-size=\"10.00\">ToCopyBackward0</text>\n",
              "</g>\n",
              "<!-- 5991454976&#45;&gt;5991460352 -->\n",
              "<g id=\"edge4\" class=\"edge\">\n",
              "<title>5991454976&#45;&gt;5991460352</title>\n",
              "<path fill=\"none\" stroke=\"black\" d=\"M53,-288.08C53,-281.57 53,-272.42 53,-264.12\"/>\n",
              "<polygon fill=\"black\" stroke=\"black\" points=\"56.5,-264.12 53,-254.12 49.5,-264.12 56.5,-264.12\"/>\n",
              "</g>\n",
              "<!-- 5991459296 -->\n",
              "<g id=\"node7\" class=\"node\">\n",
              "<title>5991459296</title>\n",
              "<polygon fill=\"lightgrey\" stroke=\"black\" points=\"103,-362.75 3,-362.75 3,-343.5 103,-343.5 103,-362.75\"/>\n",
              "<text text-anchor=\"middle\" x=\"53\" y=\"-349.25\" font-family=\"monospace\" font-size=\"10.00\">AccumulateGrad</text>\n",
              "</g>\n",
              "<!-- 5991459296&#45;&gt;5991454976 -->\n",
              "<g id=\"edge5\" class=\"edge\">\n",
              "<title>5991459296&#45;&gt;5991454976</title>\n",
              "<path fill=\"none\" stroke=\"black\" d=\"M53,-343.33C53,-336.82 53,-327.67 53,-319.37\"/>\n",
              "<polygon fill=\"black\" stroke=\"black\" points=\"56.5,-319.37 53,-309.37 49.5,-319.37 56.5,-319.37\"/>\n",
              "</g>\n",
              "<!-- 5970845744 -->\n",
              "<g id=\"node8\" class=\"node\">\n",
              "<title>5970845744</title>\n",
              "<polygon fill=\"lightblue\" stroke=\"black\" points=\"80,-430 26,-430 26,-398.75 80,-398.75 80,-430\"/>\n",
              "<text text-anchor=\"middle\" x=\"53\" y=\"-404.5\" font-family=\"monospace\" font-size=\"10.00\"> (17)</text>\n",
              "</g>\n",
              "<!-- 5970845744&#45;&gt;5991459296 -->\n",
              "<g id=\"edge6\" class=\"edge\">\n",
              "<title>5970845744&#45;&gt;5991459296</title>\n",
              "<path fill=\"none\" stroke=\"black\" d=\"M53,-398.42C53,-391.22 53,-382.47 53,-374.66\"/>\n",
              "<polygon fill=\"black\" stroke=\"black\" points=\"56.5,-374.68 53,-364.68 49.5,-374.68 56.5,-374.68\"/>\n",
              "</g>\n",
              "</g>\n",
              "</svg>\n"
            ],
            "text/plain": [
              "<graphviz.graphs.Digraph at 0x164a5ba10>"
            ]
          },
          "metadata": {},
          "output_type": "display_data"
        }
      ],
      "source": [
        "from torchviz import make_dot\n",
        "\n",
        "g = make_dot(z, params={'x':x})\n",
        "display(g)"
      ]
    },
    {
      "cell_type": "code",
      "execution_count": 41,
      "id": "82b42633",
      "metadata": {},
      "outputs": [],
      "source": [
        "# 勾配計算\n",
        "z.backward()"
      ]
    },
    {
      "cell_type": "code",
      "execution_count": 42,
      "id": "25254f31",
      "metadata": {},
      "outputs": [
        {
          "name": "stdout",
          "output_type": "stream",
          "text": [
            "None\n"
          ]
        },
        {
          "name": "stderr",
          "output_type": "stream",
          "text": [
            "/var/folders/dm/10pms4tx5cx6r5q38zn0mdgc0000gn/T/ipykernel_13914/3014308063.py:1: UserWarning: The .grad attribute of a Tensor that is not a leaf Tensor is being accessed. Its .grad attribute won't be populated during autograd.backward(). If you indeed want the .grad field to be populated for a non-leaf Tensor, use .retain_grad() on the non-leaf Tensor. If you access the non-leaf Tensor by mistake, make sure you access the leaf Tensor instead. See github.com/pytorch/pytorch/pull/30531 for more informations. (Triggered internally at /Users/runner/work/pytorch/pytorch/pytorch/build/aten/src/ATen/core/TensorBody.h:494.)\n",
            "  print(x.grad)\n"
          ]
        }
      ],
      "source": [
        "print(x.grad)"
      ]
    },
    {
      "cell_type": "code",
      "execution_count": null,
      "id": "ee3853ce",
      "metadata": {},
      "outputs": [],
      "source": []
    }
  ],
  "metadata": {
    "colab": {
      "provenance": []
    },
    "kernelspec": {
      "display_name": "Python 3",
      "language": "python",
      "name": "python3"
    },
    "language_info": {
      "codemirror_mode": {
        "name": "ipython",
        "version": 3
      },
      "file_extension": ".py",
      "mimetype": "text/x-python",
      "name": "python",
      "nbconvert_exporter": "python",
      "pygments_lexer": "ipython3",
      "version": "3.11.7"
    }
  },
  "nbformat": 4,
  "nbformat_minor": 5
}
