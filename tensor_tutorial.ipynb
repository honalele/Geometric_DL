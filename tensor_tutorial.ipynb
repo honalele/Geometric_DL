{
  "cells": [
    {
      "cell_type": "code",
      "id": "O6exzTqJjecPE1lNg7uUbt1E",
      "metadata": {
        "tags": [],
        "id": "O6exzTqJjecPE1lNg7uUbt1E",
        "executionInfo": {
          "status": "ok",
          "timestamp": 1710416165698,
          "user_tz": -540,
          "elapsed": 254,
          "user": {
            "displayName": "",
            "userId": ""
          }
        },
        "colab": {
          "base_uri": "https://localhost:8080/"
        },
        "outputId": "ac705cb5-fff8-4f9f-c168-56b4d474909f"
      },
      "source": [
        "import torch\n",
        "\n",
        "\n",
        "# Create a 2x4 tensor\n",
        "m = torch.Tensor(2,4)\n",
        "m\n",
        "# Move your tensor to GPU device 0 if there is one (first GPU in the system)\n",
        "device = torch.device(\"cuda:0\" if torch.cuda.is_available() else \"cpu\")\n",
        "m.to(device)\n",
        "print(f'torch.cuda.is_available() = {torch.cuda.is_available()}')\n",
        "print(f'torch.cuda.device_count() = {torch.cuda.device_count()}')\n",
        "print(f'torch.cuda.current_device() = {torch.cuda.current_device()}')"
      ],
      "execution_count": 2,
      "outputs": [
        {
          "output_type": "stream",
          "name": "stdout",
          "text": [
            "torch.cuda.is_available() = True\n",
            "torch.cuda.device_count() = 8\n",
            "torch.cuda.current_device() = 0\n"
          ]
        }
      ]
    },
    {
      "cell_type": "code",
      "source": [
        "import numpy"
      ],
      "metadata": {
        "id": "on3hV8MdPU0k",
        "executionInfo": {
          "status": "ok",
          "timestamp": 1710416166550,
          "user_tz": -540,
          "elapsed": 1,
          "user": {
            "displayName": "",
            "userId": ""
          }
        }
      },
      "id": "on3hV8MdPU0k",
      "execution_count": 3,
      "outputs": []
    },
    {
      "cell_type": "code",
      "source": [
        "torch.sqrt(torch.tensor(2.0))"
      ],
      "metadata": {
        "colab": {
          "base_uri": "https://localhost:8080/"
        },
        "id": "s_pnSA9GU8z0",
        "executionInfo": {
          "status": "ok",
          "timestamp": 1710416168014,
          "user_tz": -540,
          "elapsed": 875,
          "user": {
            "displayName": "",
            "userId": ""
          }
        },
        "outputId": "7e7a03ed-c981-416c-ed0d-eef07d2b0e88"
      },
      "id": "s_pnSA9GU8z0",
      "execution_count": 4,
      "outputs": [
        {
          "output_type": "execute_result",
          "data": {
            "text/plain": [
              "tensor(1.4142)"
            ]
          },
          "metadata": {},
          "execution_count": 4
        }
      ]
    },
    {
      "cell_type": "code",
      "source": [
        "# What about all \"*Tensor\"\n",
        "torch.*Tensor?"
      ],
      "metadata": {
        "id": "XB3pKbIeVDRs",
        "executionInfo": {
          "status": "ok",
          "timestamp": 1710416168014,
          "user_tz": -540,
          "elapsed": 1,
          "user": {
            "displayName": "",
            "userId": ""
          }
        }
      },
      "id": "XB3pKbIeVDRs",
      "execution_count": 5,
      "outputs": []
    },
    {
      "cell_type": "code",
      "source": [
        "# Annotate your functions/classes!\n",
        "torch.nn.Module?"
      ],
      "metadata": {
        "id": "ToJI7NW8VQ-_",
        "executionInfo": {
          "status": "ok",
          "timestamp": 1710416168313,
          "user_tz": -540,
          "elapsed": 1,
          "user": {
            "displayName": "",
            "userId": ""
          }
        }
      },
      "id": "ToJI7NW8VQ-_",
      "execution_count": 6,
      "outputs": []
    },
    {
      "cell_type": "code",
      "source": [
        "%magic"
      ],
      "metadata": {
        "id": "yIcaxa5wVWXT",
        "executionInfo": {
          "status": "ok",
          "timestamp": 1710416168618,
          "user_tz": -540,
          "elapsed": 2,
          "user": {
            "displayName": "",
            "userId": ""
          }
        }
      },
      "id": "yIcaxa5wVWXT",
      "execution_count": 7,
      "outputs": []
    },
    {
      "cell_type": "code",
      "source": [
        "# List all the files in the current directory\n",
        "!ls -lh"
      ],
      "metadata": {
        "id": "YZ09eesoVqr1",
        "colab": {
          "base_uri": "https://localhost:8080/"
        },
        "executionInfo": {
          "status": "ok",
          "timestamp": 1710416169484,
          "user_tz": -540,
          "elapsed": 275,
          "user": {
            "displayName": "",
            "userId": ""
          }
        },
        "outputId": "f10db59c-09e1-4cbb-e31d-83933e1f15e0"
      },
      "id": "YZ09eesoVqr1",
      "execution_count": 8,
      "outputs": [
        {
          "output_type": "stream",
          "name": "stdout",
          "text": [
            "total 0\n"
          ]
        }
      ]
    },
    {
      "cell_type": "code",
      "source": [
        "%%bash\n",
        "#List all the files but with cleaner outputs for readability\n",
        "for f in $(ls *.*); do\n",
        "    echo $(wc -l $f)\n",
        "done"
      ],
      "metadata": {
        "colab": {
          "base_uri": "https://localhost:8080/"
        },
        "id": "jCXfqVBmiIRb",
        "executionInfo": {
          "status": "ok",
          "timestamp": 1710412664350,
          "user_tz": -540,
          "elapsed": 3,
          "user": {
            "displayName": "",
            "userId": ""
          }
        },
        "outputId": "5b323efa-3a6c-4c67-804a-a63607338202"
      },
      "id": "jCXfqVBmiIRb",
      "execution_count": null,
      "outputs": [
        {
          "output_type": "stream",
          "name": "stderr",
          "text": [
            "ls: cannot access '*.*': No such file or directory\n"
          ]
        }
      ]
    },
    {
      "cell_type": "markdown",
      "source": [
        "# Torch"
      ],
      "metadata": {
        "id": "amr2DlLQjIRX"
      },
      "id": "amr2DlLQjIRX"
    },
    {
      "cell_type": "code",
      "source": [
        "# Generate a tensor of size 2x3x4\n",
        "t = torch.Tensor(2,3,4)\n",
        "type(t)"
      ],
      "metadata": {
        "colab": {
          "base_uri": "https://localhost:8080/"
        },
        "id": "uYezi7fKifGN",
        "executionInfo": {
          "status": "ok",
          "timestamp": 1710412737273,
          "user_tz": -540,
          "elapsed": 2,
          "user": {
            "displayName": "",
            "userId": ""
          }
        },
        "outputId": "aa355022-c2e8-40c7-b48b-788b58e13de8"
      },
      "id": "uYezi7fKifGN",
      "execution_count": null,
      "outputs": [
        {
          "output_type": "execute_result",
          "data": {
            "text/plain": [
              "torch.Tensor"
            ]
          },
          "metadata": {},
          "execution_count": 14
        }
      ]
    },
    {
      "cell_type": "code",
      "source": [
        "# Get the size of tensor\n",
        "t.size()"
      ],
      "metadata": {
        "colab": {
          "base_uri": "https://localhost:8080/"
        },
        "id": "n3qTZx7TiymG",
        "executionInfo": {
          "status": "ok",
          "timestamp": 1710412759145,
          "user_tz": -540,
          "elapsed": 319,
          "user": {
            "displayName": "",
            "userId": ""
          }
        },
        "outputId": "f0a9e460-08b0-4ef6-cabc-43cb88e08b2b"
      },
      "id": "n3qTZx7TiymG",
      "execution_count": null,
      "outputs": [
        {
          "output_type": "execute_result",
          "data": {
            "text/plain": [
              "torch.Size([2, 3, 4])"
            ]
          },
          "metadata": {},
          "execution_count": 15
        }
      ]
    },
    {
      "cell_type": "code",
      "source": [
        "# t.size() is a classic tuple =>\n",
        "print('t size:', ' \\u00D7 '.join(map(str, t.size())))"
      ],
      "metadata": {
        "colab": {
          "base_uri": "https://localhost:8080/"
        },
        "id": "3iDPlKiIi32a",
        "executionInfo": {
          "status": "ok",
          "timestamp": 1710412792780,
          "user_tz": -540,
          "elapsed": 3,
          "user": {
            "displayName": "",
            "userId": ""
          }
        },
        "outputId": "26becb18-74e7-4740-de79-fb3e4f3289fa"
      },
      "id": "3iDPlKiIi32a",
      "execution_count": null,
      "outputs": [
        {
          "output_type": "stream",
          "name": "stdout",
          "text": [
            "t size: 2 × 3 × 4\n"
          ]
        }
      ]
    },
    {
      "cell_type": "code",
      "source": [
        "# prints dimensional space and sub-dimensions\n",
        "print(f'point in a {t.numel()} dimensional space')\n",
        "print(f'point in a {t.dim()} dimensional space')"
      ],
      "metadata": {
        "colab": {
          "base_uri": "https://localhost:8080/"
        },
        "id": "8d6lU6q9jACw",
        "executionInfo": {
          "status": "ok",
          "timestamp": 1710412923386,
          "user_tz": -540,
          "elapsed": 6,
          "user": {
            "displayName": "",
            "userId": ""
          }
        },
        "outputId": "8fc08539-a8e9-468c-8f4c-8506b828aa39"
      },
      "id": "8d6lU6q9jACw",
      "execution_count": null,
      "outputs": [
        {
          "output_type": "stream",
          "name": "stdout",
          "text": [
            "point in a 24 dimensional space\n",
            "point in a 3 dimensional space\n"
          ]
        }
      ]
    },
    {
      "cell_type": "code",
      "source": [
        "t"
      ],
      "metadata": {
        "colab": {
          "base_uri": "https://localhost:8080/"
        },
        "id": "QdKOyllpjf5I",
        "executionInfo": {
          "status": "ok",
          "timestamp": 1710412949190,
          "user_tz": -540,
          "elapsed": 1,
          "user": {
            "displayName": "",
            "userId": ""
          }
        },
        "outputId": "96a2d063-c8a3-444c-86cb-88cd9efd1bd0"
      },
      "id": "QdKOyllpjf5I",
      "execution_count": null,
      "outputs": [
        {
          "output_type": "execute_result",
          "data": {
            "text/plain": [
              "tensor([[[-4.1314e+29,  4.3376e-41, -7.3362e-16,  3.2797e-41],\n",
              "         [ 4.4842e-44,  0.0000e+00,  8.9683e-44,  0.0000e+00],\n",
              "         [ 5.5232e-29,  3.2790e-41, -2.0777e+29,  4.3376e-41]],\n",
              "\n",
              "        [[ 1.3713e-36,  4.3376e-41, -2.2708e+29,  4.3376e-41],\n",
              "         [-2.0776e+29,  4.3376e-41, -2.2708e+29,  4.3376e-41],\n",
              "         [ 1.2417e-36,  4.3376e-41,  9.1084e-44,  0.0000e+00]]])"
            ]
          },
          "metadata": {},
          "execution_count": 18
        }
      ]
    },
    {
      "cell_type": "code",
      "source": [
        "# Mind the underscore!\n",
        "# Any operation that mutates a tensor in-place is post-fixed with an _.\n",
        "# For example: x.copy_(y), x.t_(), x.random_(n) will change x.\n",
        "# In-place operations are cheap on CUDA Tensors with .storage_offset() == 0.\n",
        "# See the CUDA NumPy compatibility guide for more detail.\n",
        "t.copy_(torch.randn(2,3,4))"
      ],
      "metadata": {
        "colab": {
          "base_uri": "https://localhost:8080/"
        },
        "id": "u-wmx5D4jmDx",
        "executionInfo": {
          "status": "ok",
          "timestamp": 1710413109469,
          "user_tz": -540,
          "elapsed": 247,
          "user": {
            "displayName": "",
            "userId": ""
          }
        },
        "outputId": "3d8643b2-0bac-44bb-d2d2-49010b7b06ba"
      },
      "id": "u-wmx5D4jmDx",
      "execution_count": null,
      "outputs": [
        {
          "output_type": "execute_result",
          "data": {
            "text/plain": [
              "tensor([[[-0.2890,  0.8592,  1.2191,  1.0729],\n",
              "         [ 0.7081,  0.1799,  1.2687, -0.8167],\n",
              "         [-0.5488,  1.0650, -0.8293, -1.8052]],\n",
              "\n",
              "        [[ 1.0673,  1.3211,  1.6640,  0.9754],\n",
              "         [-1.0386, -1.4806, -0.2841, -1.4173],\n",
              "         [ 1.5403, -0.1160,  1.2842,  0.6453]]])"
            ]
          },
          "metadata": {},
          "execution_count": 19
        }
      ]
    },
    {
      "cell_type": "code",
      "source": [
        "t.random_(10)"
      ],
      "metadata": {
        "colab": {
          "base_uri": "https://localhost:8080/"
        },
        "id": "YwvGJ2IPkNWh",
        "executionInfo": {
          "status": "ok",
          "timestamp": 1710413140170,
          "user_tz": -540,
          "elapsed": 4,
          "user": {
            "displayName": "",
            "userId": ""
          }
        },
        "outputId": "e3a57435-b6d2-4d1e-eee7-281c98357593"
      },
      "id": "YwvGJ2IPkNWh",
      "execution_count": null,
      "outputs": [
        {
          "output_type": "execute_result",
          "data": {
            "text/plain": [
              "tensor([[[9., 9., 6., 1.],\n",
              "         [5., 1., 0., 4.],\n",
              "         [1., 1., 5., 3.]],\n",
              "\n",
              "        [[6., 1., 1., 7.],\n",
              "         [4., 1., 1., 6.],\n",
              "         [4., 4., 8., 0.]]])"
            ]
          },
          "metadata": {},
          "execution_count": 20
        }
      ]
    },
    {
      "cell_type": "code",
      "source": [
        "t"
      ],
      "metadata": {
        "colab": {
          "base_uri": "https://localhost:8080/"
        },
        "id": "J6fLE4OakU2t",
        "executionInfo": {
          "status": "ok",
          "timestamp": 1710413193513,
          "user_tz": -540,
          "elapsed": 268,
          "user": {
            "displayName": "",
            "userId": ""
          }
        },
        "outputId": "fa5fb6ca-84a1-4762-ea88-cd649e9001a6"
      },
      "id": "J6fLE4OakU2t",
      "execution_count": null,
      "outputs": [
        {
          "output_type": "execute_result",
          "data": {
            "text/plain": [
              "tensor([[[9., 9., 6., 1.],\n",
              "         [5., 1., 0., 4.],\n",
              "         [1., 1., 5., 3.]],\n",
              "\n",
              "        [[6., 1., 1., 7.],\n",
              "         [4., 1., 1., 6.],\n",
              "         [4., 4., 8., 0.]]])"
            ]
          },
          "metadata": {},
          "execution_count": 21
        }
      ]
    },
    {
      "cell_type": "code",
      "source": [
        "# resize the tensor permanently\n",
        "r = torch.Tensor(t)\n",
        "r"
      ],
      "metadata": {
        "colab": {
          "base_uri": "https://localhost:8080/"
        },
        "id": "3FktB_Vukh6O",
        "executionInfo": {
          "status": "ok",
          "timestamp": 1710413301383,
          "user_tz": -540,
          "elapsed": 269,
          "user": {
            "displayName": "",
            "userId": ""
          }
        },
        "outputId": "13142424-063b-4bbb-8de4-74cb0d70efdc"
      },
      "id": "3FktB_Vukh6O",
      "execution_count": null,
      "outputs": [
        {
          "output_type": "execute_result",
          "data": {
            "text/plain": [
              "tensor([[[9., 9., 6., 1.],\n",
              "         [5., 1., 0., 4.],\n",
              "         [1., 1., 5., 3.]],\n",
              "\n",
              "        [[6., 1., 1., 7.],\n",
              "         [4., 1., 1., 6.],\n",
              "         [4., 4., 8., 0.]]])"
            ]
          },
          "metadata": {},
          "execution_count": 22
        }
      ]
    },
    {
      "cell_type": "code",
      "source": [
        "r.resize_(3,8)"
      ],
      "metadata": {
        "colab": {
          "base_uri": "https://localhost:8080/"
        },
        "id": "ULBKyrvIk8Jl",
        "executionInfo": {
          "status": "ok",
          "timestamp": 1710413306586,
          "user_tz": -540,
          "elapsed": 232,
          "user": {
            "displayName": "",
            "userId": ""
          }
        },
        "outputId": "263ea6d8-9d7b-4216-8d12-d5cf622e5a1b"
      },
      "id": "ULBKyrvIk8Jl",
      "execution_count": null,
      "outputs": [
        {
          "output_type": "execute_result",
          "data": {
            "text/plain": [
              "tensor([[9., 9., 6., 1., 5., 1., 0., 4.],\n",
              "        [1., 1., 5., 3., 6., 1., 1., 7.],\n",
              "        [4., 1., 1., 6., 4., 4., 8., 0.]])"
            ]
          },
          "metadata": {},
          "execution_count": 23
        }
      ]
    },
    {
      "cell_type": "code",
      "source": [
        "# As you can see zero_ would replace r with 0's which was originally filled with integers\n",
        "r.zero_()"
      ],
      "metadata": {
        "colab": {
          "base_uri": "https://localhost:8080/"
        },
        "id": "zXE-_sNEk9eb",
        "executionInfo": {
          "status": "ok",
          "timestamp": 1710413393910,
          "user_tz": -540,
          "elapsed": 254,
          "user": {
            "displayName": "",
            "userId": ""
          }
        },
        "outputId": "a03a8a34-fd84-4c38-f844-c47b95038bb0"
      },
      "id": "zXE-_sNEk9eb",
      "execution_count": null,
      "outputs": [
        {
          "output_type": "execute_result",
          "data": {
            "text/plain": [
              "tensor([[0., 0., 0., 0., 0., 0., 0., 0.],\n",
              "        [0., 0., 0., 0., 0., 0., 0., 0.],\n",
              "        [0., 0., 0., 0., 0., 0., 0., 0.]])"
            ]
          },
          "metadata": {},
          "execution_count": 24
        }
      ]
    },
    {
      "cell_type": "code",
      "source": [
        "# This is important\n",
        "s = r.clone()\n",
        "s"
      ],
      "metadata": {
        "colab": {
          "base_uri": "https://localhost:8080/"
        },
        "id": "Kz7qTO8PlSvs",
        "executionInfo": {
          "status": "ok",
          "timestamp": 1710413429286,
          "user_tz": -540,
          "elapsed": 3,
          "user": {
            "displayName": "",
            "userId": ""
          }
        },
        "outputId": "ec5da325-308a-470b-af6f-5b702b55845e"
      },
      "id": "Kz7qTO8PlSvs",
      "execution_count": null,
      "outputs": [
        {
          "output_type": "execute_result",
          "data": {
            "text/plain": [
              "tensor([[0., 0., 0., 0., 0., 0., 0., 0.],\n",
              "        [0., 0., 0., 0., 0., 0., 0., 0.],\n",
              "        [0., 0., 0., 0., 0., 0., 0., 0.]])"
            ]
          },
          "metadata": {},
          "execution_count": 25
        }
      ]
    },
    {
      "cell_type": "code",
      "source": [
        "s.fill_(1)"
      ],
      "metadata": {
        "colab": {
          "base_uri": "https://localhost:8080/"
        },
        "id": "mpVfVUt0lbdR",
        "executionInfo": {
          "status": "ok",
          "timestamp": 1710413445497,
          "user_tz": -540,
          "elapsed": 3,
          "user": {
            "displayName": "",
            "userId": ""
          }
        },
        "outputId": "7d844ed1-93ff-4fd3-ea10-5863424ffbb8"
      },
      "id": "mpVfVUt0lbdR",
      "execution_count": null,
      "outputs": [
        {
          "output_type": "execute_result",
          "data": {
            "text/plain": [
              "tensor([[1., 1., 1., 1., 1., 1., 1., 1.],\n",
              "        [1., 1., 1., 1., 1., 1., 1., 1.],\n",
              "        [1., 1., 1., 1., 1., 1., 1., 1.]])"
            ]
          },
          "metadata": {},
          "execution_count": 26
        }
      ]
    },
    {
      "cell_type": "code",
      "source": [
        "# Because we cloned r, even though we did an in-operation, this doesn't affect r\n",
        "r"
      ],
      "metadata": {
        "colab": {
          "base_uri": "https://localhost:8080/"
        },
        "id": "bLKSWCL-lfYR",
        "executionInfo": {
          "status": "ok",
          "timestamp": 1710413454719,
          "user_tz": -540,
          "elapsed": 2,
          "user": {
            "displayName": "",
            "userId": ""
          }
        },
        "outputId": "eb7d98a0-d45f-4ded-a59b-9ec49b1ebb43"
      },
      "id": "bLKSWCL-lfYR",
      "execution_count": null,
      "outputs": [
        {
          "output_type": "execute_result",
          "data": {
            "text/plain": [
              "tensor([[0., 0., 0., 0., 0., 0., 0., 0.],\n",
              "        [0., 0., 0., 0., 0., 0., 0., 0.],\n",
              "        [0., 0., 0., 0., 0., 0., 0., 0.]])"
            ]
          },
          "metadata": {},
          "execution_count": 27
        }
      ]
    },
    {
      "cell_type": "markdown",
      "source": [
        "## 1-D Tensors/ Vectors"
      ],
      "metadata": {
        "id": "dIM_2nLtlyg8"
      },
      "id": "dIM_2nLtlyg8"
    },
    {
      "cell_type": "code",
      "source": [
        "# Creates a 1D of dimentions (1D) and size of tensor\n",
        "v = torch.Tensor( [1, 2, 3, 4])\n",
        "v"
      ],
      "metadata": {
        "colab": {
          "base_uri": "https://localhost:8080/"
        },
        "id": "8UTxS_8mlhlN",
        "executionInfo": {
          "status": "ok",
          "timestamp": 1710413613128,
          "user_tz": -540,
          "elapsed": 3,
          "user": {
            "displayName": "",
            "userId": ""
          }
        },
        "outputId": "cdf683f5-8522-447e-c5e0-0cf83af69445"
      },
      "id": "8UTxS_8mlhlN",
      "execution_count": null,
      "outputs": [
        {
          "output_type": "execute_result",
          "data": {
            "text/plain": [
              "tensor([1., 2., 3., 4.])"
            ]
          },
          "metadata": {},
          "execution_count": 28
        }
      ]
    },
    {
      "cell_type": "code",
      "source": [
        "print(f'dim: {v.dim()}')\n",
        "print(f'size: {v.size()}')\n",
        "print(f'numel: {v.numel()}')"
      ],
      "metadata": {
        "colab": {
          "base_uri": "https://localhost:8080/"
        },
        "id": "4R0xp29dmIKI",
        "executionInfo": {
          "status": "ok",
          "timestamp": 1710413641093,
          "user_tz": -540,
          "elapsed": 250,
          "user": {
            "displayName": "",
            "userId": ""
          }
        },
        "outputId": "3204ebc2-c4cb-4573-dadf-e6589a03b334"
      },
      "id": "4R0xp29dmIKI",
      "execution_count": null,
      "outputs": [
        {
          "output_type": "stream",
          "name": "stdout",
          "text": [
            "dim: 1\n",
            "size: torch.Size([4])\n",
            "numel: 4\n"
          ]
        }
      ]
    },
    {
      "cell_type": "code",
      "source": [
        "w = torch.Tensor( [1, 0, 2, 0])\n",
        "w"
      ],
      "metadata": {
        "colab": {
          "base_uri": "https://localhost:8080/"
        },
        "id": "h8ReY4qtmPJg",
        "executionInfo": {
          "status": "ok",
          "timestamp": 1710413674141,
          "user_tz": -540,
          "elapsed": 279,
          "user": {
            "displayName": "",
            "userId": ""
          }
        },
        "outputId": "e29b2efe-1eff-4361-aa7f-2eced4dd9e4e"
      },
      "id": "h8ReY4qtmPJg",
      "execution_count": null,
      "outputs": [
        {
          "output_type": "execute_result",
          "data": {
            "text/plain": [
              "tensor([1., 0., 2., 0.])"
            ]
          },
          "metadata": {},
          "execution_count": 30
        }
      ]
    },
    {
      "cell_type": "code",
      "source": [
        "# element-wise multiplication\n",
        "v * w"
      ],
      "metadata": {
        "colab": {
          "base_uri": "https://localhost:8080/"
        },
        "id": "DkPcjqe_mXL-",
        "executionInfo": {
          "status": "ok",
          "timestamp": 1710413706378,
          "user_tz": -540,
          "elapsed": 3,
          "user": {
            "displayName": "",
            "userId": ""
          }
        },
        "outputId": "ee40c24d-b9b1-429e-a333-8f1779c352a4"
      },
      "id": "DkPcjqe_mXL-",
      "execution_count": null,
      "outputs": [
        {
          "output_type": "execute_result",
          "data": {
            "text/plain": [
              "tensor([1., 0., 6., 0.])"
            ]
          },
          "metadata": {},
          "execution_count": 31
        }
      ]
    },
    {
      "cell_type": "code",
      "source": [
        "# Scalar product: 1*1 + 2*0 + 3*2 + 4*0\n",
        "v@w"
      ],
      "metadata": {
        "colab": {
          "base_uri": "https://localhost:8080/"
        },
        "id": "jqa3Yv2GmfCM",
        "executionInfo": {
          "status": "ok",
          "timestamp": 1710413758801,
          "user_tz": -540,
          "elapsed": 2,
          "user": {
            "displayName": "",
            "userId": ""
          }
        },
        "outputId": "31a2aeb4-00f9-4e1e-b658-0bff387e0a32"
      },
      "id": "jqa3Yv2GmfCM",
      "execution_count": null,
      "outputs": [
        {
          "output_type": "execute_result",
          "data": {
            "text/plain": [
              "tensor(7.)"
            ]
          },
          "metadata": {},
          "execution_count": 32
        }
      ]
    },
    {
      "cell_type": "code",
      "source": [
        "# inplace replacement of random from 0 to 10\n",
        "x = torch.Tensor(5)"
      ],
      "metadata": {
        "id": "bUydnrZumr3-"
      },
      "id": "bUydnrZumr3-",
      "execution_count": null,
      "outputs": []
    },
    {
      "cell_type": "code",
      "source": [
        "x"
      ],
      "metadata": {
        "colab": {
          "base_uri": "https://localhost:8080/"
        },
        "id": "r53nUVM6m3dQ",
        "executionInfo": {
          "status": "ok",
          "timestamp": 1710413809655,
          "user_tz": -540,
          "elapsed": 362,
          "user": {
            "displayName": "",
            "userId": ""
          }
        },
        "outputId": "fcf59e11-02ee-42d1-a043-ccb0224b2378"
      },
      "id": "r53nUVM6m3dQ",
      "execution_count": null,
      "outputs": [
        {
          "output_type": "execute_result",
          "data": {
            "text/plain": [
              "tensor([-4.1314e+29,  4.3376e-41, -4.1314e+29,  4.3376e-41,  4.4842e-44])"
            ]
          },
          "metadata": {},
          "execution_count": 34
        }
      ]
    },
    {
      "cell_type": "code",
      "source": [
        "x.random_(10)"
      ],
      "metadata": {
        "colab": {
          "base_uri": "https://localhost:8080/"
        },
        "id": "gpZwct3nm4Rf",
        "executionInfo": {
          "status": "ok",
          "timestamp": 1710413822955,
          "user_tz": -540,
          "elapsed": 3,
          "user": {
            "displayName": "",
            "userId": ""
          }
        },
        "outputId": "a67407ef-f9e1-4bfd-ce58-50ee269cd02b"
      },
      "id": "gpZwct3nm4Rf",
      "execution_count": null,
      "outputs": [
        {
          "output_type": "execute_result",
          "data": {
            "text/plain": [
              "tensor([0., 7., 6., 5., 5.])"
            ]
          },
          "metadata": {},
          "execution_count": 35
        }
      ]
    },
    {
      "cell_type": "code",
      "source": [
        "print(f'first: {x[0]}, last: {x[-1]}')"
      ],
      "metadata": {
        "colab": {
          "base_uri": "https://localhost:8080/"
        },
        "id": "fMgOaY7tm7fC",
        "executionInfo": {
          "status": "ok",
          "timestamp": 1710413887352,
          "user_tz": -540,
          "elapsed": 3,
          "user": {
            "displayName": "",
            "userId": ""
          }
        },
        "outputId": "9a6ea678-4051-4dba-845a-0b351060f0df"
      },
      "id": "fMgOaY7tm7fC",
      "execution_count": null,
      "outputs": [
        {
          "output_type": "stream",
          "name": "stdout",
          "text": [
            "first: 0.0, last: 5.0\n"
          ]
        }
      ]
    },
    {
      "cell_type": "code",
      "source": [
        "# Extract sub-Tensor\n",
        "x[1:2+1]"
      ],
      "metadata": {
        "colab": {
          "base_uri": "https://localhost:8080/"
        },
        "id": "F9IMhuFJnLT0",
        "executionInfo": {
          "status": "ok",
          "timestamp": 1710413924065,
          "user_tz": -540,
          "elapsed": 2,
          "user": {
            "displayName": "",
            "userId": ""
          }
        },
        "outputId": "8b95883f-999b-41e0-ae52-5112ad9d4ce5"
      },
      "id": "F9IMhuFJnLT0",
      "execution_count": null,
      "outputs": [
        {
          "output_type": "execute_result",
          "data": {
            "text/plain": [
              "tensor([7., 6.])"
            ]
          },
          "metadata": {},
          "execution_count": 37
        }
      ]
    },
    {
      "cell_type": "code",
      "source": [
        "v"
      ],
      "metadata": {
        "colab": {
          "base_uri": "https://localhost:8080/"
        },
        "id": "PmDCGIUBnUL5",
        "executionInfo": {
          "status": "ok",
          "timestamp": 1710413939366,
          "user_tz": -540,
          "elapsed": 2,
          "user": {
            "displayName": "",
            "userId": ""
          }
        },
        "outputId": "bcb01e04-2d7f-4205-d061-bdfbb6085d30"
      },
      "id": "PmDCGIUBnUL5",
      "execution_count": null,
      "outputs": [
        {
          "output_type": "execute_result",
          "data": {
            "text/plain": [
              "tensor([1., 2., 3., 4.])"
            ]
          },
          "metadata": {},
          "execution_count": 38
        }
      ]
    },
    {
      "cell_type": "code",
      "source": [
        "# Create a tensor with integers ranging from 1 to 5, excluding 5\n",
        "v = torch.arange(1, 5)\n",
        "v"
      ],
      "metadata": {
        "colab": {
          "base_uri": "https://localhost:8080/"
        },
        "id": "80GF6j0_nX8p",
        "executionInfo": {
          "status": "ok",
          "timestamp": 1710413989094,
          "user_tz": -540,
          "elapsed": 3,
          "user": {
            "displayName": "",
            "userId": ""
          }
        },
        "outputId": "47084bf8-7f64-493e-db85-8b7a965de9be"
      },
      "id": "80GF6j0_nX8p",
      "execution_count": null,
      "outputs": [
        {
          "output_type": "execute_result",
          "data": {
            "text/plain": [
              "tensor([1, 2, 3, 4])"
            ]
          },
          "metadata": {},
          "execution_count": 39
        }
      ]
    },
    {
      "cell_type": "code",
      "source": [
        "# Square all elements in the tensor\n",
        "print(v.pow(2), v)"
      ],
      "metadata": {
        "colab": {
          "base_uri": "https://localhost:8080/"
        },
        "id": "rpPoryZnnkFX",
        "executionInfo": {
          "status": "ok",
          "timestamp": 1710414028927,
          "user_tz": -540,
          "elapsed": 392,
          "user": {
            "displayName": "",
            "userId": ""
          }
        },
        "outputId": "656cd9e9-a0c6-472b-bf53-5fe92f874485"
      },
      "id": "rpPoryZnnkFX",
      "execution_count": null,
      "outputs": [
        {
          "output_type": "stream",
          "name": "stdout",
          "text": [
            "tensor([ 1,  4,  9, 16]) tensor([1, 2, 3, 4])\n"
          ]
        }
      ]
    },
    {
      "cell_type": "code",
      "source": [
        "torch.arange(0, 8, 3)"
      ],
      "metadata": {
        "colab": {
          "base_uri": "https://localhost:8080/"
        },
        "id": "SZWF7Qimntzd",
        "executionInfo": {
          "status": "ok",
          "timestamp": 1710414133384,
          "user_tz": -540,
          "elapsed": 2,
          "user": {
            "displayName": "",
            "userId": ""
          }
        },
        "outputId": "62e915de-543e-4e18-fd77-8d3050835f23"
      },
      "id": "SZWF7Qimntzd",
      "execution_count": null,
      "outputs": [
        {
          "output_type": "execute_result",
          "data": {
            "text/plain": [
              "tensor([0, 3, 6])"
            ]
          },
          "metadata": {},
          "execution_count": 42
        }
      ]
    },
    {
      "cell_type": "code",
      "source": [
        "torch.linspace(3, 8, 20)"
      ],
      "metadata": {
        "colab": {
          "base_uri": "https://localhost:8080/"
        },
        "id": "HMvHtqQ6oFku",
        "executionInfo": {
          "status": "ok",
          "timestamp": 1710414164620,
          "user_tz": -540,
          "elapsed": 3,
          "user": {
            "displayName": "",
            "userId": ""
          }
        },
        "outputId": "966b6fd4-1ce8-4e0e-bdf6-dea5ad4ae10b"
      },
      "id": "HMvHtqQ6oFku",
      "execution_count": null,
      "outputs": [
        {
          "output_type": "execute_result",
          "data": {
            "text/plain": [
              "tensor([3.0000, 3.2632, 3.5263, 3.7895, 4.0526, 4.3158, 4.5789, 4.8421, 5.1053,\n",
              "        5.3684, 5.6316, 5.8947, 6.1579, 6.4211, 6.6842, 6.9474, 7.2105, 7.4737,\n",
              "        7.7368, 8.0000])"
            ]
          },
          "metadata": {},
          "execution_count": 43
        }
      ]
    },
    {
      "cell_type": "code",
      "source": [
        "torch.linspace(3,8, 20).view(1,-1)"
      ],
      "metadata": {
        "colab": {
          "base_uri": "https://localhost:8080/"
        },
        "id": "TAN8g-5noO9l",
        "executionInfo": {
          "status": "ok",
          "timestamp": 1710414206303,
          "user_tz": -540,
          "elapsed": 4,
          "user": {
            "displayName": "",
            "userId": ""
          }
        },
        "outputId": "8dd202a3-6c9a-4ad0-b587-accc2e8eea47"
      },
      "id": "TAN8g-5noO9l",
      "execution_count": null,
      "outputs": [
        {
          "output_type": "execute_result",
          "data": {
            "text/plain": [
              "tensor([[3.0000, 3.2632, 3.5263, 3.7895, 4.0526, 4.3158, 4.5789, 4.8421, 5.1053,\n",
              "         5.3684, 5.6316, 5.8947, 6.1579, 6.4211, 6.6842, 6.9474, 7.2105, 7.4737,\n",
              "         7.7368, 8.0000]])"
            ]
          },
          "metadata": {},
          "execution_count": 44
        }
      ]
    },
    {
      "cell_type": "code",
      "source": [
        "torch.linspace(3,8, 20).view(4,5)"
      ],
      "metadata": {
        "colab": {
          "base_uri": "https://localhost:8080/"
        },
        "id": "uoPs5IDMoZJr",
        "executionInfo": {
          "status": "ok",
          "timestamp": 1710414383016,
          "user_tz": -540,
          "elapsed": 16,
          "user": {
            "displayName": "",
            "userId": ""
          }
        },
        "outputId": "d7a87a13-b82a-4025-9154-d78f8b81c67d"
      },
      "id": "uoPs5IDMoZJr",
      "execution_count": null,
      "outputs": [
        {
          "output_type": "execute_result",
          "data": {
            "text/plain": [
              "tensor([[3.0000, 3.2632, 3.5263, 3.7895, 4.0526],\n",
              "        [4.3158, 4.5789, 4.8421, 5.1053, 5.3684],\n",
              "        [5.6316, 5.8947, 6.1579, 6.4211, 6.6842],\n",
              "        [6.9474, 7.2105, 7.4737, 7.7368, 8.0000]])"
            ]
          },
          "metadata": {},
          "execution_count": 51
        }
      ]
    },
    {
      "cell_type": "markdown",
      "source": [
        "## 2-D Tensors/ Vectors"
      ],
      "metadata": {
        "id": "XmvlafWnrxq3"
      },
      "id": "XmvlafWnrxq3"
    },
    {
      "cell_type": "code",
      "source": [
        "torch.eye(3)"
      ],
      "metadata": {
        "colab": {
          "base_uri": "https://localhost:8080/"
        },
        "id": "poI0AX6xoeSs",
        "executionInfo": {
          "status": "ok",
          "timestamp": 1710414433671,
          "user_tz": -540,
          "elapsed": 327,
          "user": {
            "displayName": "",
            "userId": ""
          }
        },
        "outputId": "9cb890c1-734a-425c-eec0-8e9fffcf616e"
      },
      "id": "poI0AX6xoeSs",
      "execution_count": null,
      "outputs": [
        {
          "output_type": "execute_result",
          "data": {
            "text/plain": [
              "tensor([[1., 0., 0.],\n",
              "        [0., 1., 0.],\n",
              "        [0., 0., 1.]])"
            ]
          },
          "metadata": {},
          "execution_count": 52
        }
      ]
    },
    {
      "cell_type": "code",
      "source": [
        "# Create a 2x4 tensor\n",
        "m = torch.Tensor(2,4)\n",
        "m"
      ],
      "metadata": {
        "colab": {
          "base_uri": "https://localhost:8080/"
        },
        "id": "BkmIHq_wr268",
        "executionInfo": {
          "status": "ok",
          "timestamp": 1710415151081,
          "user_tz": -540,
          "elapsed": 278,
          "user": {
            "displayName": "",
            "userId": ""
          }
        },
        "outputId": "7ac0641a-432e-4b55-b066-20bb7291d1c5"
      },
      "id": "BkmIHq_wr268",
      "execution_count": null,
      "outputs": [
        {
          "output_type": "execute_result",
          "data": {
            "text/plain": [
              "tensor([[-3.5502e-16,  3.2797e-41, -4.1313e+29,  4.3376e-41],\n",
              "        [ 0.0000e+00,  0.0000e+00,  0.0000e+00,  0.0000e+00]])"
            ]
          },
          "metadata": {},
          "execution_count": 54
        }
      ]
    },
    {
      "cell_type": "code",
      "source": [
        "m.dim()"
      ],
      "metadata": {
        "colab": {
          "base_uri": "https://localhost:8080/"
        },
        "id": "LBqe7Rx-sC1O",
        "executionInfo": {
          "status": "ok",
          "timestamp": 1710415169939,
          "user_tz": -540,
          "elapsed": 274,
          "user": {
            "displayName": "",
            "userId": ""
          }
        },
        "outputId": "4f24dfb7-7c25-44c4-d16b-1ed5e88aa95f"
      },
      "id": "LBqe7Rx-sC1O",
      "execution_count": null,
      "outputs": [
        {
          "output_type": "execute_result",
          "data": {
            "text/plain": [
              "2"
            ]
          },
          "metadata": {},
          "execution_count": 55
        }
      ]
    },
    {
      "cell_type": "code",
      "source": [
        "m.size()"
      ],
      "metadata": {
        "colab": {
          "base_uri": "https://localhost:8080/"
        },
        "id": "HuPH7E6IsHnh",
        "executionInfo": {
          "status": "ok",
          "timestamp": 1710415189862,
          "user_tz": -540,
          "elapsed": 246,
          "user": {
            "displayName": "",
            "userId": ""
          }
        },
        "outputId": "6abc18d1-0084-403b-9698-80c4328420c9"
      },
      "id": "HuPH7E6IsHnh",
      "execution_count": null,
      "outputs": [
        {
          "output_type": "execute_result",
          "data": {
            "text/plain": [
              "torch.Size([2, 4])"
            ]
          },
          "metadata": {},
          "execution_count": 56
        }
      ]
    },
    {
      "cell_type": "code",
      "source": [
        "# Move your tensor to GPU device 0 if there is one (first GPU in the system)\n",
        "device = torch.device(\"cuda:0\" if torch.cuda.is_available() else \"cpu\")\n",
        "m.to(device)"
      ],
      "metadata": {
        "colab": {
          "base_uri": "https://localhost:8080/"
        },
        "id": "wdXIwlg-pQpB",
        "executionInfo": {
          "status": "ok",
          "timestamp": 1710415194972,
          "user_tz": -540,
          "elapsed": 266,
          "user": {
            "displayName": "",
            "userId": ""
          }
        },
        "outputId": "699e5cc3-23b1-4371-c1e1-d69d61dcf645"
      },
      "id": "wdXIwlg-pQpB",
      "execution_count": null,
      "outputs": [
        {
          "output_type": "execute_result",
          "data": {
            "text/plain": [
              "tensor([[-3.5502e-16,  3.2797e-41, -4.1313e+29,  4.3376e-41],\n",
              "        [ 0.0000e+00,  0.0000e+00,  0.0000e+00,  0.0000e+00]])"
            ]
          },
          "metadata": {},
          "execution_count": 57
        }
      ]
    },
    {
      "cell_type": "code",
      "source": [
        "print(f'torch.cuda.is_available() = {torch.cuda.is_available()}')"
      ],
      "metadata": {
        "colab": {
          "base_uri": "https://localhost:8080/"
        },
        "id": "ihEwdOZgrhiL",
        "executionInfo": {
          "status": "ok",
          "timestamp": 1710415220677,
          "user_tz": -540,
          "elapsed": 251,
          "user": {
            "displayName": "",
            "userId": ""
          }
        },
        "outputId": "731c9d71-0b90-4910-ca6e-3ea420c527ea"
      },
      "id": "ihEwdOZgrhiL",
      "execution_count": null,
      "outputs": [
        {
          "output_type": "stream",
          "name": "stdout",
          "text": [
            "torch.cuda.is_available() = False\n"
          ]
        }
      ]
    },
    {
      "cell_type": "code",
      "source": [],
      "metadata": {
        "id": "A9KWWoQOsQv-"
      },
      "id": "A9KWWoQOsQv-",
      "execution_count": null,
      "outputs": []
    }
  ],
  "metadata": {
    "kernelspec": {
      "display_name": "Python 3",
      "language": "python",
      "name": "python3"
    },
    "language_info": {
      "codemirror_mode": {
        "name": "ipython",
        "version": 3
      },
      "file_extension": ".py",
      "mimetype": "text/x-python",
      "name": "python",
      "nbconvert_exporter": "python",
      "pygments_lexer": "ipython3",
      "version": "3.10.10"
    },
    "colab": {
      "provenance": []
    }
  },
  "nbformat": 4,
  "nbformat_minor": 5
}